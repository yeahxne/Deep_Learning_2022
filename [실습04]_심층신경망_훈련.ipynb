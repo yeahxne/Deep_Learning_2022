{
  "nbformat": 4,
  "nbformat_minor": 0,
  "metadata": {
    "colab": {
      "name": "[실습04] 심층신경망 훈련.ipynb",
      "provenance": [],
      "collapsed_sections": [],
      "authorship_tag": "ABX9TyPbUKZEvqTuS8JgLMSgcknX",
      "include_colab_link": true
    },
    "kernelspec": {
      "name": "python3",
      "display_name": "Python 3"
    },
    "language_info": {
      "name": "python"
    },
    "accelerator": "GPU"
  },
  "cells": [
    {
      "cell_type": "markdown",
      "metadata": {
        "id": "view-in-github",
        "colab_type": "text"
      },
      "source": [
        "<a href=\"https://colab.research.google.com/github/yeahxne/Deep_Learning_2022/blob/main/%5B%EC%8B%A4%EC%8A%B504%5D_%EC%8B%AC%EC%B8%B5%EC%8B%A0%EA%B2%BD%EB%A7%9D_%ED%9B%88%EB%A0%A8.ipynb\" target=\"_parent\"><img src=\"https://colab.research.google.com/assets/colab-badge.svg\" alt=\"Open In Colab\"/></a>"
      ]
    },
    {
      "cell_type": "markdown",
      "source": [
        "### CIFAR10을 CNN으로 학습하기. 여러 학습 방법으로 비교"
      ],
      "metadata": {
        "id": "w_cGXvFwsfC-"
      }
    },
    {
      "cell_type": "code",
      "execution_count": 1,
      "metadata": {
        "id": "I_jhgtCTr4sT"
      },
      "outputs": [],
      "source": [
        "import numpy as np\n",
        "import torch\n",
        "import torch.nn as nn\n",
        "import torch.optim as optim\n",
        "import torch.nn.init as init\n",
        "import torchvision.datasets as dset\n",
        "import torchvision.transforms as transforms\n",
        "from torch.utils.data import DataLoader\n",
        "from torch.autograd import Variable\n",
        "import matplotlib.pyplot as plt\n",
        "\n",
        "# (8)learning rate decay\n",
        "from torch.optim import lr_scheduler\n",
        "\n",
        "batch_size=16\n",
        "learning_rate=0.002\n",
        "num_epoch=1\n",
        "# num_epoch=60"
      ]
    },
    {
      "cell_type": "markdown",
      "source": [
        "### 1. CIFAR10 train,test dataset 가져오기(163MB)\n",
        "MNIST: 11MB"
      ],
      "metadata": {
        "id": "kCI2amqGsrYU"
      }
    },
    {
      "cell_type": "code",
      "source": [
        "cifar_train=dset.CIFAR10(\"CIFAR10/\",train=True,transform=transforms.ToTensor(),target_transform=None,download=True)\n",
        "cifar_test=dset.CIFAR10(\"CIFAR10/\",train=False,transform=transforms.ToTensor(),target_transform=None,download=True)\n",
        "\n",
        "# # (2) Data augmentation\n",
        "# cifar_train=dset.CIFAR10(\"CIFAR10/\", train=True,\n",
        "#                         transform=transforms.Compose([\n",
        "#                             transforms.Resize(36),    # torchvision.transforms.Scale was deprecated in favor of torchvision.transforms.Resize so use the latter transformation in current releases.\n",
        "#                             transforms.CenterCrop(32),\n",
        "#                             transforms.RandomHorizontalFlip(),\n",
        "#                             transforms.Lambda(lambda x: x.rotate(90)),\n",
        "#                             transforms.ToTensor()\n",
        "#                         ]))\n",
        "\n",
        "# # (4) Data Normalization\n",
        "# cifar_train=dset.CIFAR10(\"CIFAR10/\", train=True,\n",
        "#                         transform=transforms.Compose([\n",
        "#                             transforms.ToTensor(),\n",
        "#                             transforms.Normalize(mean=(0.5,0.5,0.5), std=(0.5,0.5,0.5)),\n",
        "#                         ])\n",
        "#                         , target_transform=None, download=False)\n",
        "\n",
        "# cifar_test=dset.CIFAR10(\"CIFAR10/\", train=False,\n",
        "#                         transform=transforms.Compose([\n",
        "#                             transforms.ToTensor(),\n",
        "#                             transforms.Normalize(mean=(0.5,0.5,0.5), std=(0.5,0.5,0.5)),\n",
        "#                         ])\n",
        "#                         , target_transform=None, download=False)"
      ],
      "metadata": {
        "colab": {
          "base_uri": "https://localhost:8080/"
        },
        "id": "jiTO9k-gssiV",
        "outputId": "0d01f280-0775-4b4f-a2ea-366e43026ef6"
      },
      "execution_count": 25,
      "outputs": [
        {
          "output_type": "stream",
          "name": "stdout",
          "text": [
            "Files already downloaded and verified\n",
            "Files already downloaded and verified\n"
          ]
        }
      ]
    },
    {
      "cell_type": "markdown",
      "source": [
        "### 2. 대략적인 데이터 형태"
      ],
      "metadata": {
        "id": "0_3jX8_lsyv_"
      }
    },
    {
      "cell_type": "code",
      "source": [
        "print(\"cifar_train 길이:\", len(cifar_train))\n",
        "print(\"cifar_test 길이:\", len(cifar_test))\n",
        "\n",
        "# 데이터 하나 형태\n",
        "image, label = cifar_train.__getitem__(1)  # 1번째 데이터\n",
        "print(\"image data 형태:\", image.size())\n",
        "print(\"label:\", label)\n",
        "\n",
        "# 그리기\n",
        "img = image.numpy()  # image 타입을 numpy로 변환(3,32,32)\n",
        "\n",
        "# (3,32,32) -> (32,32,3)\n",
        "r, g, b = img[0,:,:], img[1,:,:], img[2,:,:]\n",
        "# img = img.reshape(img.shape[1], img.shape[2], img.shape[0])\n",
        "img2 = np.zeros((img.shape[1], img.shape[2], img.shape[0]))\n",
        "img2[:,:,0], img2[:,:,1], img2[:,:,2] = r, g, b\n",
        "\n",
        "plt.title(\"label: %d\" %label)\n",
        "plt.imshow(img2,interpolation='bicubic')\n",
        "plt.show()"
      ],
      "metadata": {
        "colab": {
          "base_uri": "https://localhost:8080/",
          "height": 354
        },
        "id": "dMDNvVnLsv78",
        "outputId": "e0117084-a9e1-4673-91f8-9f66e61819fe"
      },
      "execution_count": 3,
      "outputs": [
        {
          "output_type": "stream",
          "name": "stdout",
          "text": [
            "cifar_train 길이: 50000\n",
            "cifar_test 길이: 10000\n",
            "image data 형태: torch.Size([3, 32, 32])\n",
            "label: 9\n"
          ]
        },
        {
          "output_type": "display_data",
          "data": {
            "text/plain": [
              "<Figure size 432x288 with 1 Axes>"
            ],
            "image/png": "[encoded data removed]"
          },
          "metadata": {
            "needs_background": "light"
          }
        }
      ]
    },
    {
      "cell_type": "code",
      "source": [
        "def ComputeAccr(dloader, imodel):\n",
        "    correct = 0\n",
        "    total = 0\n",
        "    \n",
        "    for j, [imgs, labels] in enumerate(dloader):  # batch_size 만큼\n",
        "        img = Variable(imgs,volatile=True).cuda()  # x\n",
        "        # label = Variable(labels)  # y\n",
        "        label = Variable(labels).cuda()\n",
        "        \n",
        "        output = imodel.forward(img)  # forward prop.\n",
        "        _, output_index = torch.max(output, 1)\n",
        "        \n",
        "        total += label.size(0)\n",
        "        correct += (output_index == label).sum().float()\n",
        "    print(\"Accuracy of Test Data: {}\".format(100*correct/total))"
      ],
      "metadata": {
        "id": "xlyAeaLCs0Rj"
      },
      "execution_count": 4,
      "outputs": []
    },
    {
      "cell_type": "code",
      "source": [
        "# === 3. 데이터 로드함수 ===\n",
        "train_loader=torch.utils.data.DataLoader(list(cifar_train)[:], batch_size=batch_size, shuffle=True, num_workers=2, drop_last=True)\n",
        "test_loader=torch.utils.data.DataLoader(cifar_test, batch_size=batch_size, shuffle=False, num_workers=2, drop_last=True)\n",
        "\n",
        "# === 4. 모델 선언 ===\n",
        "class CNN(nn.Module):\n",
        "    def __init__(self):\n",
        "        super(CNN,self).__init__()\n",
        "        self.layer=nn.Sequential(\n",
        "            nn.Conv2d(3,16,3,padding=1),\n",
        "            nn.ReLU(),\n",
        "            # nn.Dropout2d(0.2),  # (1) drop out\n",
        "            # nn.BatchNorm2d(16),  # (5) Batch normalization\n",
        "            nn.Conv2d(16,32,3,padding=1),\n",
        "            nn.ReLU(),\n",
        "            # nn.Dropout2d(0.2),\n",
        "            # nn.BatchNorm2d(32),\n",
        "            nn.MaxPool2d(2,2),\n",
        "            nn.Conv2d(32,64,3,padding=1),\n",
        "            nn.ReLU(),\n",
        "            # nn.Dropout2d(0.2),\n",
        "            # nn.BatchNorm2d(64),\n",
        "            nn.MaxPool2d(2,2)\n",
        "        )\n",
        "        self.fc_layer=nn.Sequential(\n",
        "            nn.Linear(64*8*8, 100),\n",
        "            nn.ReLU(),\n",
        "            # nn.Dropout2d(0.2),\n",
        "            # nn.BatchNorm1d(100),\n",
        "            nn.Linear(100,10)\n",
        "        )\n",
        "        \n",
        "        # # (3) weight initialization\n",
        "        # for m in self.modules():\n",
        "        #     if isinstance(m, nn.Conv2d):\n",
        "        #         init.kaiming_normal(m.weight.data)  # ReLU 일 때\n",
        "        #         m.bias.data.fill_(0)\n",
        "        #     if isinstance(m, nn.Linear):\n",
        "        #         init.kaiming_normal(m.weight.data)\n",
        "        #         m.bias.data.fill_(0)\n",
        "                \n",
        "    def forward(self,x):\n",
        "        out=self.layer(x)\n",
        "        out=out.view(batch_size,-1)\n",
        "        out=self.fc_layer(out)\n",
        "        \n",
        "        return out\n",
        "\n",
        "model=CNN().cuda()"
      ],
      "metadata": {
        "id": "ueXMFG1PtX_u"
      },
      "execution_count": 32,
      "outputs": []
    },
    {
      "cell_type": "code",
      "source": [
        "# === 5. loss, optimizer ===\n",
        "loss_func=nn.CrossEntropyLoss()\n",
        "optimizer=torch.optim.SGD(model.parameters(), lr=learning_rate)\n",
        "\n",
        "# # (6) Adam optimizer\n",
        "# optimizer=torch.optim.Adam(model.parameters(), lr=learning_rate)\n",
        "\n",
        "# # (7) learning rate decay\n",
        "# scheduler=lr_scheduler.StepLR(optimizer, step_size=20, gamma=0.2)\n",
        "\n",
        "# ===6. 학습 ===\n",
        "for i in range(num_epoch):\n",
        "    for j,[image, label] in enumerate(train_loader):\n",
        "        x=Variable(image).cuda()\n",
        "        y_=Variable(label).cuda()\n",
        "        \n",
        "        optimizer.zero_grad()\n",
        "        output=model.forward(x)\n",
        "        loss=loss_func(output,y_)\n",
        "        loss.backward()\n",
        "        optimizer.step()\n",
        "        \n",
        "        if j%1000==0:\n",
        "            print(j,loss)"
      ],
      "metadata": {
        "colab": {
          "base_uri": "https://localhost:8080/"
        },
        "id": "KMnBTwaktdMt",
        "outputId": "111503f9-81d8-4a71-bef6-d9492c50cb86"
      },
      "execution_count": 35,
      "outputs": [
        {
          "output_type": "stream",
          "name": "stdout",
          "text": [
            "0 tensor(1.0727, device='cuda:0', grad_fn=<NllLossBackward0>)\n",
            "1000 tensor(1.1369, device='cuda:0', grad_fn=<NllLossBackward0>)\n",
            "2000 tensor(0.6121, device='cuda:0', grad_fn=<NllLossBackward0>)\n",
            "3000 tensor(1.4179, device='cuda:0', grad_fn=<NllLossBackward0>)\n"
          ]
        }
      ]
    },
    {
      "cell_type": "markdown",
      "source": [
        "### (0) Naive Test"
      ],
      "metadata": {
        "id": "1lyslc2kuT2w"
      }
    },
    {
      "cell_type": "code",
      "source": [
        "ComputeAccr(test_loader, model)"
      ],
      "metadata": {
        "colab": {
          "base_uri": "https://localhost:8080/"
        },
        "id": "pv_3uDwJuok6",
        "outputId": "021fee64-9241-41ae-88ec-f4febb360c85"
      },
      "execution_count": 7,
      "outputs": [
        {
          "output_type": "stream",
          "name": "stderr",
          "text": [
            "/usr/local/lib/python3.7/dist-packages/ipykernel_launcher.py:6: UserWarning: volatile was removed and now has no effect. Use `with torch.no_grad():` instead.\n",
            "  \n"
          ]
        },
        {
          "output_type": "stream",
          "name": "stdout",
          "text": [
            "Accuracy of Test Data: 16.03999900817871\n"
          ]
        }
      ]
    },
    {
      "cell_type": "markdown",
      "source": [
        "### (1) drop out"
      ],
      "metadata": {
        "id": "dde7DrtDuUCq"
      }
    },
    {
      "cell_type": "code",
      "source": [
        "ComputeAccr(test_loader, model)"
      ],
      "metadata": {
        "colab": {
          "base_uri": "https://localhost:8080/"
        },
        "id": "MP49MJr0upEU",
        "outputId": "222f6f2b-7363-4931-eed6-7835219d542a"
      },
      "execution_count": 10,
      "outputs": [
        {
          "output_type": "stream",
          "name": "stderr",
          "text": [
            "/usr/local/lib/python3.7/dist-packages/ipykernel_launcher.py:6: UserWarning: volatile was removed and now has no effect. Use `with torch.no_grad():` instead.\n",
            "  \n",
            "/usr/local/lib/python3.7/dist-packages/torch/nn/functional.py:1320: UserWarning: dropout2d: Received a 2-D input to dropout2d, which is deprecated and will result in an error in a future release. To retain the behavior and silence this warning, please use dropout instead. Note that dropout2d exists to provide channel-wise dropout on inputs with 2 spatial dimensions, a channel dimension, and an optional batch dimension (i.e. 3D or 4D inputs).\n",
            "  warnings.warn(warn_msg)\n"
          ]
        },
        {
          "output_type": "stream",
          "name": "stdout",
          "text": [
            "Accuracy of Test Data: 17.739999771118164\n"
          ]
        }
      ]
    },
    {
      "cell_type": "markdown",
      "source": [
        "### (2) Data augmentation"
      ],
      "metadata": {
        "id": "SMSXXVt6uUGS"
      }
    },
    {
      "cell_type": "code",
      "source": [
        "ComputeAccr(test_loader, model)"
      ],
      "metadata": {
        "colab": {
          "base_uri": "https://localhost:8080/"
        },
        "id": "Ngp1t25mupjy",
        "outputId": "a9c62f59-31d4-402b-cd8f-7e884fd6bcaa"
      },
      "execution_count": 14,
      "outputs": [
        {
          "output_type": "stream",
          "name": "stderr",
          "text": [
            "/usr/local/lib/python3.7/dist-packages/ipykernel_launcher.py:6: UserWarning: volatile was removed and now has no effect. Use `with torch.no_grad():` instead.\n",
            "  \n"
          ]
        },
        {
          "output_type": "stream",
          "name": "stdout",
          "text": [
            "Accuracy of Test Data: 11.279999732971191\n"
          ]
        }
      ]
    },
    {
      "cell_type": "markdown",
      "source": [
        "### (3) Weight initialization"
      ],
      "metadata": {
        "id": "li2mgrL7uUJ6"
      }
    },
    {
      "cell_type": "code",
      "source": [
        "ComputeAccr(test_loader, model)"
      ],
      "metadata": {
        "colab": {
          "base_uri": "https://localhost:8080/"
        },
        "id": "yUhh7ZULuqJe",
        "outputId": "e75daa4b-ad3c-4426-c150-212e96119b1d"
      },
      "execution_count": 18,
      "outputs": [
        {
          "output_type": "stream",
          "name": "stderr",
          "text": [
            "/usr/local/lib/python3.7/dist-packages/ipykernel_launcher.py:6: UserWarning: volatile was removed and now has no effect. Use `with torch.no_grad():` instead.\n",
            "  \n"
          ]
        },
        {
          "output_type": "stream",
          "name": "stdout",
          "text": [
            "Accuracy of Test Data: 45.53999710083008\n"
          ]
        }
      ]
    },
    {
      "cell_type": "markdown",
      "source": [
        "### (4) Data Normalization"
      ],
      "metadata": {
        "id": "e17XHTxCuUPo"
      }
    },
    {
      "cell_type": "code",
      "source": [
        "ComputeAccr(test_loader, model)"
      ],
      "metadata": {
        "id": "zHaBxf-TuqkY",
        "colab": {
          "base_uri": "https://localhost:8080/"
        },
        "outputId": "c18bce97-8573-459f-cfe0-38f6a6254f7a"
      },
      "execution_count": 24,
      "outputs": [
        {
          "output_type": "stream",
          "name": "stderr",
          "text": [
            "/usr/local/lib/python3.7/dist-packages/ipykernel_launcher.py:6: UserWarning: volatile was removed and now has no effect. Use `with torch.no_grad():` instead.\n",
            "  \n"
          ]
        },
        {
          "output_type": "stream",
          "name": "stdout",
          "text": [
            "Accuracy of Test Data: 29.670000076293945\n"
          ]
        }
      ]
    },
    {
      "cell_type": "markdown",
      "source": [
        "### (5) Batch normalization"
      ],
      "metadata": {
        "id": "v-ZbkOItue85"
      }
    },
    {
      "cell_type": "code",
      "source": [
        "ComputeAccr(test_loader, model)"
      ],
      "metadata": {
        "id": "ke_BXAn8urAE",
        "colab": {
          "base_uri": "https://localhost:8080/"
        },
        "outputId": "7fbf35c6-16ea-4d38-e788-c1fd3ed41896"
      },
      "execution_count": 31,
      "outputs": [
        {
          "output_type": "stream",
          "name": "stderr",
          "text": [
            "/usr/local/lib/python3.7/dist-packages/ipykernel_launcher.py:6: UserWarning: volatile was removed and now has no effect. Use `with torch.no_grad():` instead.\n",
            "  \n"
          ]
        },
        {
          "output_type": "stream",
          "name": "stdout",
          "text": [
            "Accuracy of Test Data: 61.90999984741211\n"
          ]
        }
      ]
    },
    {
      "cell_type": "markdown",
      "source": [
        "### (6) Adam optimizer"
      ],
      "metadata": {
        "id": "2dPjEP2yufNC"
      }
    },
    {
      "cell_type": "code",
      "source": [
        "ComputeAccr(test_loader, model)"
      ],
      "metadata": {
        "id": "GvDNOR-iuroS",
        "colab": {
          "base_uri": "https://localhost:8080/"
        },
        "outputId": "7b1c7e9c-54b0-47bd-9e9f-1659b5303ba8"
      },
      "execution_count": 34,
      "outputs": [
        {
          "output_type": "stream",
          "name": "stderr",
          "text": [
            "/usr/local/lib/python3.7/dist-packages/ipykernel_launcher.py:6: UserWarning: volatile was removed and now has no effect. Use `with torch.no_grad():` instead.\n",
            "  \n"
          ]
        },
        {
          "output_type": "stream",
          "name": "stdout",
          "text": [
            "Accuracy of Test Data: 59.57999801635742\n"
          ]
        }
      ]
    },
    {
      "cell_type": "markdown",
      "source": [
        "### (7) learning rate decay"
      ],
      "metadata": {
        "id": "G8kwS9oMufWf"
      }
    },
    {
      "cell_type": "code",
      "source": [
        "ComputeAccr(test_loader, model)"
      ],
      "metadata": {
        "id": "2Zo4aBtAunJH",
        "colab": {
          "base_uri": "https://localhost:8080/"
        },
        "outputId": "881a4ba6-187b-4a31-af4b-1ee7de6b0d9a"
      },
      "execution_count": 36,
      "outputs": [
        {
          "output_type": "stream",
          "name": "stderr",
          "text": [
            "/usr/local/lib/python3.7/dist-packages/ipykernel_launcher.py:6: UserWarning: volatile was removed and now has no effect. Use `with torch.no_grad():` instead.\n",
            "  \n"
          ]
        },
        {
          "output_type": "stream",
          "name": "stdout",
          "text": [
            "Accuracy of Test Data: 63.56999969482422\n"
          ]
        }
      ]
    }
  ]
}